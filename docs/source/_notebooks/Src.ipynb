version https://git-lfs.github.com/spec/v1
oid sha256:da11b4a6f80aafb0f5bd80ee2743cf6e1e90ffa282447cbb1ec5ac0a375a2a7d
size 370592
