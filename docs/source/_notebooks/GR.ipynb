version https://git-lfs.github.com/spec/v1
oid sha256:6dcc989b50d22d8c0105cf6af24f17d538ae0f08005963ed86b9d64a0cf9b9e0
size 973768
