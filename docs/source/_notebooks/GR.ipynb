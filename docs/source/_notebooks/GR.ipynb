version https://git-lfs.github.com/spec/v1
oid sha256:ee41d831a7945e449d1602102c538c586940a98bb180c61ae3656ae5cd43c785
size 973635
