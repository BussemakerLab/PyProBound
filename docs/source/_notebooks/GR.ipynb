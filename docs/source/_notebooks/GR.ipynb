version https://git-lfs.github.com/spec/v1
oid sha256:7a3569d8215d134b5825ef9fa4b34e97762f6cd41ad2725b1ce910abd7a0b056
size 643467
