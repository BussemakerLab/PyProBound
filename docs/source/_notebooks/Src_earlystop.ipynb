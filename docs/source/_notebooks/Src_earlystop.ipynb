version https://git-lfs.github.com/spec/v1
oid sha256:2a5451c5ec851961496cebc9c7736e7594f39d59482dfd0c0a83123fc0c0368b
size 331003
