version https://git-lfs.github.com/spec/v1
oid sha256:6d7b95bc1512e9371648d946ddefb72af778687a12f60457cbf524bbad730e6b
size 536164
